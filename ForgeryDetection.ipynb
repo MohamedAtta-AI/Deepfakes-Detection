{
 "cells": [
  {
   "attachments": {},
   "cell_type": "markdown",
   "metadata": {},
   "source": [
    "# Image Forgery Detection\n",
    "By Mohamed Atta\n",
    "\n",
    "This notebook's goal is to use a pretrained model on the FaceForensics++ dataset with the Deepfakes manipulation only.\n",
    "This implementation uses PyTorch and was run locally on a device with the following specifications:\n",
    "- GPU: NVIDIA GTX 1650 (dedicated mem: 4GB, shared mem: 7GB)\n",
    "- CPU: AMD Ryzen 7\n",
    "- RAM: 16GB\n",
    "\n",
    "## Prerequisites\n",
    "### - Download and setup the FaceForensics++ dataset (shown in the steps below)\n",
    "#### Step 1:\n",
    "Open a command terminal and run the `download_FaceForensics.py` file in the utils folder using the following commands:\\\n",
    "`python download_FaceForensics.py -d original -c c40` -> downloads the original videos with the lowest compression quality\\\n",
    "`python download_FaceForensics.py -d Deepfakes -c c40` -> downloads deepfaked videos with the lowest compression quality\n",
    "\n",
    "#### Step 2:\n",
    "Run `python extract_compressed_videos.py -d original -c c40` and `python extract_compressed_videos.py -d Deepfakes -c c40`\n",
    "\n",
    "Now, the data should be in the folder output inside the Real and Fake folders. You are set to run this file now."
   ]
  },
  {
   "cell_type": "code",
   "execution_count": 1,
   "metadata": {},
   "outputs": [],
   "source": [
    "import torch\n",
    "import torch.nn as nn\n",
    "from torch.utils.data import DataLoader, Subset, Dataset\n",
    "import torchvision\n",
    "from torchvision.datasets import ImageFolder\n",
    "from torchvision.transforms import transforms\n",
    "from torchvision.models import resnet50, ResNet50_Weights\n",
    "from tqdm import tqdm\n",
    "import copy\n",
    "import numpy as np\n",
    "import time\n",
    "\n",
    "# Utilize GPU if available else CPU\n",
    "device = torch.device(\"cuda:0\" if torch.cuda.is_available() else \"cpu\")"
   ]
  },
  {
   "attachments": {},
   "cell_type": "markdown",
   "metadata": {},
   "source": [
    "## Loading FaceForensics++ dataset"
   ]
  },
  {
   "cell_type": "code",
   "execution_count": 2,
   "metadata": {},
   "outputs": [],
   "source": [
    "# # Define the transformations to be applied to each iamge\n",
    "transform = transforms.Compose([\n",
    "    transforms.Resize(256),\n",
    "    transforms.CenterCrop(224),\n",
    "    transforms.ToTensor(),\n",
    "    transforms.Normalize(\n",
    "        mean=[0.485, 0.456, 0.406],\n",
    "        std=[0.229, 0.224, 0.225]\n",
    "    )\n",
    "])"
   ]
  },
  {
   "cell_type": "code",
   "execution_count": 3,
   "metadata": {},
   "outputs": [],
   "source": [
    "# Specify hyper-parameters\n",
    "batch_size = 128\n",
    "learning_rate = 0.1\n",
    "momentum = 0.9\n",
    "gamma = 0.1\n",
    "step_size = 3\n",
    "epochs = 5"
   ]
  },
  {
   "cell_type": "code",
   "execution_count": 4,
   "metadata": {},
   "outputs": [],
   "source": [
    "# Making train, val, test splits\n",
    "class FaceForensics(Dataset):\n",
    "    def __init__(self, dataset, transform=None):\n",
    "        self.dataset = dataset\n",
    "        self.transform = transform\n",
    "    \n",
    "    def __getitem__(self, index):\n",
    "        if self.transform:\n",
    "            img = self.transform(self.dataset[index][0])\n",
    "        else:\n",
    "            img = self.dataset[index][0]\n",
    "\n",
    "        label = self.dataset[index][1]\n",
    "\n",
    "        return img, label\n",
    "    \n",
    "    def __len__(self):\n",
    "        return len(self.dataset)\n",
    "\n",
    "\n",
    "# Load the dataset using the ImageFolder function\n",
    "data_path = './dataset/output'\n",
    "dataset = ImageFolder(data_path)\n",
    "\n",
    "train = FaceForensics(dataset, transform)\n",
    "val = FaceForensics(dataset, transform)\n",
    "test = FaceForensics(dataset, transform)"
   ]
  },
  {
   "cell_type": "code",
   "execution_count": 5,
   "metadata": {},
   "outputs": [],
   "source": [
    "# Create index splits\n",
    "train_size = 0.8\n",
    "\n",
    "ds_len = len(dataset)\n",
    "indices = list(range(ds_len))\n",
    "split = int(np.floor(train_size * ds_len))\n",
    "split2 = int(np.floor((train_size+(1-train_size)/2) * ds_len))\n",
    "np.random.shuffle(indices)\n",
    "\n",
    "train_idx, val_idx, test_idx = indices[:split], indices[split:split2], indices[split2:]\n",
    "\n",
    "# Split dataset\n",
    "train = Subset(train, indices=train_idx)\n",
    "val = Subset(val, indices=val_idx)\n",
    "test = Subset(test, test_idx)\n",
    "\n",
    "# Create PyTorch dataloaders\n",
    "trainLoader = DataLoader(train, batch_size=batch_size)\n",
    "valLoader = DataLoader(val, batch_size=batch_size)\n",
    "testLoader = DataLoader(test, batch_size=batch_size)\n",
    "\n",
    "loader = {\n",
    "    'train' : trainLoader,\n",
    "    'val'   : valLoader,\n",
    "    'test'  : testLoader\n",
    "}\n",
    "\n",
    "dataset_sizes = {'train': len(train),\n",
    "                 'val': len(val),\n",
    "                 'test': len(test)}"
   ]
  },
  {
   "attachments": {},
   "cell_type": "markdown",
   "metadata": {},
   "source": [
    "## Transfer learning\n",
    "- Load pretrianed model\n",
    "- Replace last layer\n",
    "- Fine-tune"
   ]
  },
  {
   "cell_type": "code",
   "execution_count": 43,
   "metadata": {},
   "outputs": [],
   "source": [
    "# Load ResNet pretrained on ImageNet\n",
    "model = resnet50(weights=ResNet50_Weights.IMAGENET1K_V2)\n",
    "\n",
    "# Freeze all layers\n",
    "for param in model.parameters():\n",
    "    param.requires_grad = False\n",
    "\n",
    "# Replace FC\n",
    "# Parameters of newly constructed modules have requires_grad=True by default\n",
    "num_ftrs = model.fc.in_features\n",
    "model.fc = nn.Linear(num_ftrs, 2)\n",
    "\n",
    "# Send model to device\n",
    "model = model.to(device)"
   ]
  },
  {
   "attachments": {},
   "cell_type": "markdown",
   "metadata": {},
   "source": [
    "You can skip this cell if you are not training the model"
   ]
  },
  {
   "cell_type": "code",
   "execution_count": 7,
   "metadata": {},
   "outputs": [
    {
     "name": "stdout",
     "output_type": "stream",
     "text": [
      "Epoch 1/5\n",
      "----------\n",
      "train Loss: 0.4128  ||  Acc: 0.8332\n",
      "val Loss: 0.2406  ||  Acc: 0.9091\n",
      "Epoch 2/5\n",
      "----------\n",
      "train Loss: 0.1190  ||  Acc: 0.9845\n",
      "val Loss: 0.0924  ||  Acc: 0.9862\n",
      "Epoch 3/5\n",
      "----------\n",
      "train Loss: 0.0727  ||  Acc: 0.9945\n",
      "val Loss: 0.0645  ||  Acc: 0.9917\n",
      "Epoch 4/5\n",
      "----------\n",
      "train Loss: 0.0592  ||  Acc: 0.9969\n",
      "val Loss: 0.0617  ||  Acc: 0.9945\n",
      "Epoch 5/5\n",
      "----------\n",
      "train Loss: 0.0576  ||  Acc: 0.9976\n",
      "val Loss: 0.0603  ||  Acc: 0.9945\n",
      "Training complete in 9m 28s\n",
      "Best val Acc: 0.994490\n"
     ]
    }
   ],
   "source": [
    "# Fine-tune\n",
    "def train_model(criterion, optimizer, scheduler, epochs):\n",
    "    since = time.time()\n",
    "\n",
    "    best_weights = copy.deepcopy(model.state_dict())\n",
    "    best_acc = 0.0\n",
    "    train_losses, val_losses = [], []\n",
    "    train_accs, val_accs = [], []\n",
    "\n",
    "    for epoch in range(epochs):\n",
    "        print(f'Epoch {epoch+1}/{epochs}')\n",
    "        print('-'*10)\n",
    "\n",
    "        # Each epoch has a training & validation phase\n",
    "        for phase in ['train', 'val']:\n",
    "            if phase == 'train':\n",
    "                model.train() # Set model to training mode\n",
    "            else:\n",
    "                model.eval() # Set model to evaluation mode\n",
    "            \n",
    "            running_loss = 0.0\n",
    "            running_corrects = 0\n",
    "\n",
    "            # Iterate over batches\n",
    "            for images, labels in loader[phase]:\n",
    "                # Send batch to device\n",
    "                images, labels = images.to(device), labels.to(device)\n",
    "                \n",
    "                # Zero the parameter gradients\n",
    "                optimizer.zero_grad()\n",
    "\n",
    "                # Track gradients only in training\n",
    "                with torch.set_grad_enabled(phase == 'train'):\n",
    "                    # Forward prop\n",
    "                    outputs = model(images)\n",
    "                    _, preds = torch.max(outputs, 1)\n",
    "                    loss = criterion(outputs, labels)\n",
    "\n",
    "                    # Backward prop\n",
    "                    if phase == 'train':\n",
    "                        loss.backward()\n",
    "                        optimizer.step()\n",
    "                \n",
    "                running_loss += loss.item() * images.size(0) # Total batch loss\n",
    "                running_corrects += torch.sum(preds == labels.data)\n",
    "            \n",
    "            epoch_loss = running_loss / dataset_sizes[phase]\n",
    "            epoch_acc = running_corrects / dataset_sizes[phase]\n",
    "\n",
    "            if phase == 'train':\n",
    "                scheduler.step() # decay learning rate\n",
    "                train_losses.append(epoch_loss)\n",
    "                train_accs.append(epoch_acc)\n",
    "            else:\n",
    "                val_losses.append(epoch_loss)\n",
    "                val_accs.append(epoch_acc)\n",
    "\n",
    "            print(f'{phase} Loss: {epoch_loss:.4f}  ||  Acc: {epoch_acc:.4f}')\n",
    "\n",
    "            # Deep copy the model when getting better accuracy\n",
    "            if phase == 'val' and epoch_acc > best_acc:\n",
    "                best_acc = epoch_acc\n",
    "                best_weights = copy.deepcopy(model.state_dict())\n",
    "                torch.save(best_weights, './weights/tuned_resnet50.pth')\n",
    "\n",
    "    time_elapsed = time.time() - since\n",
    "    print(f'Training complete in {time_elapsed // 60:.0f}m {time_elapsed % 60:.0f}s')\n",
    "    print(f'Best val Acc: {best_acc:4f}')\n",
    "\n",
    "    # load best model weights\n",
    "    model.load_state_dict(best_weights)\n",
    "    return model, (train_losses, train_accs, val_losses, val_accs)\n",
    "\n",
    "# Define loss function\n",
    "criterion = nn.CrossEntropyLoss()\n",
    "\n",
    "# Define optimizer (SGD with momentum)\n",
    "optimizer = torch.optim.SGD(model.parameters(), lr=learning_rate, momentum=momentum)\n",
    "\n",
    "# Decay LR by a factor of 0.1 every epochs\n",
    "scheduler = torch.optim.lr_scheduler.StepLR(optimizer, step_size=step_size, gamma=gamma)\n",
    "\n",
    "# Train model\n",
    "model, graphing = train_model(criterion, optimizer, scheduler, epochs)"
   ]
  },
  {
   "attachments": {},
   "cell_type": "markdown",
   "metadata": {},
   "source": [
    "Skip this cell if you are not training the model"
   ]
  },
  {
   "cell_type": "code",
   "execution_count": 30,
   "metadata": {},
   "outputs": [
    {
     "data": {
      "image/png": "[encoded data removed]",
      "text/plain": [
       "<Figure size 1200x500 with 2 Axes>"
      ]
     },
     "metadata": {},
     "output_type": "display_data"
    }
   ],
   "source": [
    "# Training visualization\n",
    "def plt_training(values):\n",
    "    import matplotlib.pyplot as plt\n",
    "    # plt.grid()\n",
    "    fig, ax = plt.subplots(1, 2, figsize=(12,5))\n",
    "\n",
    "    ax[0].plot(torch.arange(1,6), torch.Tensor(values[0]), label='Train')\n",
    "    ax[0].plot(torch.arange(1,6), torch.Tensor(values[2]), label='Val')\n",
    "    ax[0].grid()\n",
    "    ax[0].set_xlabel('Epoch')\n",
    "    ax[0].set_ylabel('Loss')\n",
    "    ax[0].legend()\n",
    "\n",
    "    ax[1].plot(torch.arange(1,6), torch.Tensor(values[1]), label='Train')\n",
    "    ax[1].plot(torch.arange(1,6), torch.Tensor(values[3]), label='Val')\n",
    "    ax[1].grid()\n",
    "    ax[1].set_xlabel('Epoch')\n",
    "    ax[1].set_ylabel('Accuracy')\n",
    "    ax[1].legend()\n",
    "    \n",
    "    plt.show()\n",
    "\n",
    "plt_training(graphing)"
   ]
  },
  {
   "cell_type": "code",
   "execution_count": 73,
   "metadata": {},
   "outputs": [
    {
     "data": {
      "text/plain": [
       "<All keys matched successfully>"
      ]
     },
     "execution_count": 73,
     "metadata": {},
     "output_type": "execute_result"
    }
   ],
   "source": [
    "# Load tuned model\n",
    "model.load_state_dict(torch.load('./weights/tuned_resnet50.pth'))"
   ]
  },
  {
   "cell_type": "code",
   "execution_count": 51,
   "metadata": {},
   "outputs": [
    {
     "name": "stdout",
     "output_type": "stream",
     "text": [
      "Testing complete.\n",
      "Loss: 0.06465784831808946  ||  Acc: 0.991735577583313\n"
     ]
    }
   ],
   "source": [
    "def test_model(model):\n",
    "    model.eval()\n",
    "    \n",
    "    total_loss = 0.0\n",
    "    corrects = 0\n",
    "\n",
    "    with torch.inference_mode():\n",
    "        for images, labels in loader['test']:\n",
    "            images, labels = images.to(device), labels.to(device)\n",
    "\n",
    "            # Forward pass\n",
    "            outputs = model(images)\n",
    "            _, preds = torch.max(outputs, 1)\n",
    "\n",
    "            # Compute loss\n",
    "            loss = criterion(outputs, labels)\n",
    "            total_loss += loss.item() * images.size(0)\n",
    "            corrects += torch.sum(preds == labels.data)\n",
    "        \n",
    "        total_loss /= dataset_sizes['test']\n",
    "        acc = corrects / dataset_sizes['test']\n",
    "    \n",
    "    print('Testing complete.')\n",
    "    print(f'Loss: {total_loss}  ||  Acc: {acc}')\n",
    "\n",
    "test_model(model)"
   ]
  },
  {
   "cell_type": "code",
   "execution_count": 82,
   "metadata": {},
   "outputs": [],
   "source": [
    "from PIL import Image\n",
    "\n",
    "def predict(image):\n",
    "    # Preprocess\n",
    "    image = transform(Image.fromarray(image))\n",
    "\n",
    "    # Model prediction\n",
    "    model.to('cpu')\n",
    "    output = model(torch.unsqueeze(image,0))\n",
    "    \n",
    "    # Cast to desired\n",
    "    _, prediction = torch.max(output, 1)    # argmax\n",
    "\n",
    "    # Prediction mapping\n",
    "    mapping = {0: 'Fake', 1: 'Authentic'}\n",
    "\n",
    "    return mapping[int(prediction.item())]"
   ]
  },
  {
   "attachments": {},
   "cell_type": "markdown",
   "metadata": {},
   "source": [
    "## Model deployment\n",
    "Using Gradio for model deployment API"
   ]
  },
  {
   "cell_type": "code",
   "execution_count": 83,
   "metadata": {},
   "outputs": [
    {
     "name": "stdout",
     "output_type": "stream",
     "text": [
      "Running on local URL:  http://127.0.0.1:7875\n",
      "\n",
      "To create a public link, set `share=True` in `launch()`.\n"
     ]
    },
    {
     "data": {
      "text/html": [
       "<div><iframe src=\"http://127.0.0.1:7875/\" width=\"100%\" height=\"500\" allow=\"autoplay; camera; microphone; clipboard-read; clipboard-write;\" frameborder=\"0\" allowfullscreen></iframe></div>"
      ],
      "text/plain": [
       "<IPython.core.display.HTML object>"
      ]
     },
     "metadata": {},
     "output_type": "display_data"
    },
    {
     "data": {
      "text/plain": []
     },
     "execution_count": 83,
     "metadata": {},
     "output_type": "execute_result"
    }
   ],
   "source": [
    "import gradio as gr\n",
    "\n",
    "api = gr.Interface(\n",
    "    fn=predict, \n",
    "    inputs=gr.Image(shape=(224, 224),label=\"Upload an Image\"), \n",
    "    outputs=gr.Textbox(label=\"Predicted Class\"), \n",
    "    title=\"Image Forgery Detection System\",\n",
    "    description= \"This system checks whether an image was deepfaked. Input an image to be checked.\"\n",
    ")\n",
    "\n",
    "api.launch(share=True)"
   ]
  },
  {
   "attachments": {},
   "cell_type": "markdown",
   "metadata": {},
   "source": [
    "## References\n",
    "- https://github.com/ondyari/FaceForensics\n",
    "- https://pytorch.org/tutorials/beginner/transfer_learning_tutorial.html\n",
    "- https://discuss.pytorch.org/t/using-imagefolder-random-split-with-multiple-transforms/79899/4\n",
    "- https://ravimashru.dev/blog/2021-09-26-pytorch-subset/"
   ]
  }
 ],
 "metadata": {
  "kernelspec": {
   "display_name": "Python 3",
   "language": "python",
   "name": "python3"
  },
  "language_info": {
   "codemirror_mode": {
    "name": "ipython",
    "version": 3
   },
   "file_extension": ".py",
   "mimetype": "text/x-python",
   "name": "python",
   "nbconvert_exporter": "python",
   "pygments_lexer": "ipython3",
   "version": "3.11.3"
  },
  "orig_nbformat": 4
 },
 "nbformat": 4,
 "nbformat_minor": 2
}
